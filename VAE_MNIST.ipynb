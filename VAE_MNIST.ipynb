{
 "cells": [
  {
   "cell_type": "code",
   "execution_count": null,
   "id": "9d542877",
   "metadata": {},
   "outputs": [
    {
     "ename": "ModuleNotFoundError",
     "evalue": "No module named 'torch'",
     "output_type": "error",
     "traceback": [
      "\u001b[31m---------------------------------------------------------------------------\u001b[39m",
      "\u001b[31mModuleNotFoundError\u001b[39m                       Traceback (most recent call last)",
      "\u001b[36mCell\u001b[39m\u001b[36m \u001b[39m\u001b[32mIn[1]\u001b[39m\u001b[32m, line 3\u001b[39m\n\u001b[32m      1\u001b[39m \u001b[38;5;28;01mimport\u001b[39;00m\u001b[38;5;250m \u001b[39m\u001b[34;01mstruct\u001b[39;00m\n\u001b[32m      2\u001b[39m \u001b[38;5;28;01mimport\u001b[39;00m\u001b[38;5;250m \u001b[39m\u001b[34;01mnumpy\u001b[39;00m\u001b[38;5;250m \u001b[39m\u001b[38;5;28;01mas\u001b[39;00m\u001b[38;5;250m \u001b[39m\u001b[34;01mnp\u001b[39;00m\n\u001b[32m----> \u001b[39m\u001b[32m3\u001b[39m \u001b[38;5;28;01mimport\u001b[39;00m\u001b[38;5;250m \u001b[39m\u001b[34;01mtorch\u001b[39;00m\n\u001b[32m      4\u001b[39m \u001b[38;5;28;01mfrom\u001b[39;00m\u001b[38;5;250m \u001b[39m\u001b[34;01mtorch\u001b[39;00m\u001b[34;01m.\u001b[39;00m\u001b[34;01mutils\u001b[39;00m\u001b[34;01m.\u001b[39;00m\u001b[34;01mdata\u001b[39;00m\u001b[38;5;250m \u001b[39m\u001b[38;5;28;01mimport\u001b[39;00m DataLoader, TensorDataset\n\u001b[32m      6\u001b[39m \u001b[38;5;66;03m# Device\u001b[39;00m\n",
      "\u001b[31mModuleNotFoundError\u001b[39m: No module named 'torch'"
     ]
    }
   ],
   "source": [
    "import struct\n",
    "import numpy as np\n",
    "import torch\n",
    "from torch.utils.data import DataLoader, TensorDataset\n",
    "\n",
    "# Using GPU if available\n",
    "if torch.cuda.is_available():\n",
    "    torch.backends.cudnn.benchmark = True  # For performance optimization\n",
    "    device = torch.device(\"cuda\" if torch.cuda.is_available() else \"cpu\")\n",
    "else:\n",
    "    torch.backends.cudnn.benchmark = False\n",
    "# Set the device to GPU if available, otherwise CPU\n",
    "\n",
    "\n",
    "# IDX file readers \n",
    "def load_idx_images(filepath):\n",
    "    with open(filepath, 'rb') as f:\n",
    "        magic, num, rows, cols = struct.unpack('>IIII', f.read(16))\n",
    "        data = np.fromfile(f, dtype=np.uint8)\n",
    "    return data.reshape(num, rows, cols)\n",
    "\n",
    "def load_idx_labels(filepath):\n",
    "    with open(filepath, 'rb') as f:\n",
    "        magic, num = struct.unpack('>II', f.read(8))\n",
    "        labels = np.fromfile(f, dtype=np.uint8)\n",
    "    return labels\n",
    "\n",
    "# Load data (grabbed from kaggle)\n",
    "train_imgs = load_idx_images('/mnist_data/train-images-idx3-ubyte')\n",
    "train_lbls = load_idx_labels('/mnist_data/train-labels-idx1-ubyte')\n",
    "test_imgs  = load_idx_images('/mnist_data/t10k-images-idx3-ubyte')\n",
    "test_lbls  = load_idx_labels('/mnist_data/t10k-labels-idx1-ubyte')\n",
    "\n",
    "# Normalize images\n",
    "train_imgs = (train_imgs.astype(np.float32)/255.0 - 0.1307) / 0.3081\n",
    "test_imgs  = (test_imgs.astype(np.float32)/255.0 - 0.1307) / 0.3081\n",
    "\n",
    "train_imgs = torch.from_numpy(train_imgs).unsqueeze(1)  # (N,1,28,28)\n",
    "test_imgs  = torch.from_numpy(test_imgs).unsqueeze(1)\n",
    "train_lbls = torch.from_numpy(train_lbls).long()\n",
    "test_lbls  = torch.from_numpy(test_lbls).long()\n",
    "\n",
    "# Setting up data loaders\n",
    "batch_size = 128\n",
    "train_ds = TensorDataset(train_imgs, train_lbls)\n",
    "test_ds  = TensorDataset(test_imgs,  test_lbls)\n",
    "\n",
    "train_loader = DataLoader(train_ds, batch_size=batch_size, shuffle=True)\n",
    "test_loader  = DataLoader(test_ds,  batch_size=batch_size, shuffle=False)\n"
   ]
  },
  {
   "cell_type": "code",
   "execution_count": null,
   "id": "11277add",
   "metadata": {},
   "outputs": [],
   "source": []
  }
 ],
 "metadata": {
  "kernelspec": {
   "display_name": ".venv (3.13.1)",
   "language": "python",
   "name": "python3"
  },
  "language_info": {
   "codemirror_mode": {
    "name": "ipython",
    "version": 3
   },
   "file_extension": ".py",
   "mimetype": "text/x-python",
   "name": "python",
   "nbconvert_exporter": "python",
   "pygments_lexer": "ipython3",
   "version": "3.13.1"
  }
 },
 "nbformat": 4,
 "nbformat_minor": 5
}
